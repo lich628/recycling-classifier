{
 "cells": [
  {
   "cell_type": "code",
   "execution_count": 18,
   "id": "75862966",
   "metadata": {},
   "outputs": [
    {
     "name": "stdout",
     "output_type": "stream",
     "text": [
      "类别映射: {'cardboard': 0, 'glass': 1, 'metal': 2, 'paper': 3, 'plastic': 4, 'trash': 5}\n"
     ]
    }
   ],
   "source": [
    "import torch\n",
    "from torchvision import datasets, transforms\n",
    "from torch.utils.data import DataLoader, random_split\n",
    "\n",
    "transform = transforms.Compose([\n",
    "    transforms.Resize((224, 224)),              # Resize 到 CNN 接收的大小\n",
    "    transforms.RandomHorizontalFlip(),          # 数据增强：随机水平翻转\n",
    "    transforms.ToTensor(),                      # 转为 Tensor\n",
    "    transforms.Normalize(                       # 标准化\n",
    "        mean=[0.485, 0.456, 0.406],\n",
    "        std=[0.229, 0.224, 0.225]\n",
    "    )\n",
    "])\n",
    "\n",
    "dataset_path = '../datasets/trashnet'\n",
    "\n",
    "# 自动读取子文件夹并赋予标签\n",
    "full_dataset = datasets.ImageFolder(root=dataset_path, transform=transform)\n",
    "\n",
    "# 查看类别索引（非常重要）\n",
    "print(\"类别映射:\", full_dataset.class_to_idx)\n",
    "\n",
    "# 划分为训练集和验证集（比如 80% 训练 + 20% 验证）\n",
    "train_size = int(0.8 * len(full_dataset))\n",
    "val_size = len(full_dataset) - train_size\n",
    "\n",
    "train_dataset, val_dataset = random_split(full_dataset, [train_size, val_size])\n",
    "\n",
    "# 构建 Dataloader\n",
    "train_loader = DataLoader(train_dataset, batch_size=32, shuffle=True)\n",
    "val_loader = DataLoader(val_dataset, batch_size=32, shuffle=False)"
   ]
  },
  {
   "cell_type": "code",
   "execution_count": 19,
   "id": "6d3b8e35",
   "metadata": {},
   "outputs": [
    {
     "name": "stdout",
     "output_type": "stream",
     "text": [
      "一个 batch 的图像形状： torch.Size([32, 3, 224, 224])\n",
      "对应的标签： tensor([4, 1, 4, 1, 0])\n"
     ]
    }
   ],
   "source": [
    "images, labels = next(iter(train_loader))\n",
    "print(\"一个 batch 的图像形状：\", images.shape)\n",
    "print(\"对应的标签：\", labels[:5])"
   ]
  },
  {
   "cell_type": "code",
   "execution_count": 20,
   "id": "91bf050e",
   "metadata": {},
   "outputs": [
    {
     "name": "stdout",
     "output_type": "stream",
     "text": [
      "使用设备： cpu\n",
      "Epoch 1/5 - Loss: 28.0911 - Train Accuracy: 0.8367\n",
      "Epoch 2/5 - Loss: 24.7472 - Train Accuracy: 0.8689\n",
      "Epoch 3/5 - Loss: 24.5961 - Train Accuracy: 0.8723\n",
      "Epoch 4/5 - Loss: 25.2018 - Train Accuracy: 0.8570\n",
      "Epoch 5/5 - Loss: 26.0755 - Train Accuracy: 0.8580\n"
     ]
    }
   ],
   "source": [
    "# 1. 加载模型 & 设置 device\n",
    "import torch\n",
    "import torchvision.models as models\n",
    "import torch.nn as nn\n",
    "import torch.optim as optim\n",
    "\n",
    "device = torch.device('cuda' if torch.cuda.is_available() else 'cpu')\n",
    "print(\"使用设备：\", device)\n",
    "\n",
    "# 2. 加载模型结构并替换 fc 层（⚠️ 先改结构！）\n",
    "model = models.resnet18()\n",
    "model.fc = nn.Linear(model.fc.in_features, 6)  # 👈 先替换最后一层\n",
    "model.load_state_dict(torch.load('../models/recycling_resnet18_15ep.pth', map_location=device))  # 👈 再加载参数\n",
    "model = model.to(device)\n",
    "\n",
    "# 3. 冻结特征提取层\n",
    "for param in model.parameters():\n",
    "    param.requires_grad = False\n",
    "for param in model.fc.parameters():  # 但 fc 层需要训练\n",
    "    param.requires_grad = True\n",
    "\n",
    "# 4. 定义损失函数和优化器\n",
    "criterion = nn.CrossEntropyLoss()\n",
    "optimizer = optim.Adam(model.fc.parameters(), lr=0.001)\n",
    "\n",
    "# 5. 继续训练\n",
    "num_epochs = 5\n",
    "for epoch in range(num_epochs):\n",
    "    model.train()\n",
    "    running_loss = 0.0\n",
    "    correct = 0\n",
    "    total = 0\n",
    "\n",
    "    for images, labels in train_loader:\n",
    "        images = images.to(device)\n",
    "        labels = labels.to(device)\n",
    "\n",
    "        optimizer.zero_grad()\n",
    "        outputs = model(images)\n",
    "        loss = criterion(outputs, labels)\n",
    "        loss.backward()\n",
    "        optimizer.step()\n",
    "\n",
    "        running_loss += loss.item()\n",
    "        _, predicted = outputs.max(1)\n",
    "        total += labels.size(0)\n",
    "        correct += predicted.eq(labels).sum().item()\n",
    "\n",
    "    train_acc = correct / total\n",
    "    print(f\"Epoch {epoch+1}/{num_epochs} - Loss: {running_loss:.4f} - Train Accuracy: {train_acc:.4f}\")\n",
    "\n",
    "# 6. 保存更新后的模型\n",
    "torch.save(model.state_dict(), 'recycling_resnet18.pth')"
   ]
  }
 ],
 "metadata": {
  "kernelspec": {
   "display_name": "venv",
   "language": "python",
   "name": "python3"
  },
  "language_info": {
   "codemirror_mode": {
    "name": "ipython",
    "version": 3
   },
   "file_extension": ".py",
   "mimetype": "text/x-python",
   "name": "python",
   "nbconvert_exporter": "python",
   "pygments_lexer": "ipython3",
   "version": "3.13.3"
  }
 },
 "nbformat": 4,
 "nbformat_minor": 5
}
