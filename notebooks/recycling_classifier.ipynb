{
 "cells": [
  {
   "cell_type": "code",
   "execution_count": 1,
   "id": "75862966",
   "metadata": {},
   "outputs": [
    {
     "name": "stdout",
     "output_type": "stream",
     "text": [
      "Class Reflection: {'cardboard': 0, 'glass': 1, 'metal': 2, 'paper': 3, 'plastic': 4, 'trash': 5}\n"
     ]
    }
   ],
   "source": [
    "import torch\n",
    "from torchvision import datasets, transforms\n",
    "from torch.utils.data import DataLoader, random_split\n",
    "\n",
    "transform = transforms.Compose([\n",
    "    transforms.Resize((224, 224)),              # Resize to the size accepted by the CNN\n",
    "    transforms.RandomHorizontalFlip(),          # Data Augmentation: Random Horizontal Flip\n",
    "    transforms.ToTensor(),                      # transform into Tensor\n",
    "    transforms.Normalize(                       # normalize\n",
    "        mean=[0.485, 0.456, 0.406],\n",
    "        std=[0.229, 0.224, 0.225]\n",
    "    )\n",
    "])\n",
    "\n",
    "dataset_path = '../datasets/trashnet'\n",
    "\n",
    "# Automatically read subfolders and assign labels\n",
    "full_dataset = datasets.ImageFolder(root=dataset_path, transform=transform)\n",
    "\n",
    "# Check class indices (critical point)\n",
    "print(\"Class Reflection:\", full_dataset.class_to_idx)\n",
    "\n",
    "# Partition the Training Set and Validation Set（in this case, 80% for training + 20% for Validation）\n",
    "train_size = int(0.8 * len(full_dataset))\n",
    "val_size = len(full_dataset) - train_size\n",
    "\n",
    "train_dataset, val_dataset = random_split(full_dataset, [train_size, val_size])\n",
    "\n",
    "# Build Dataloader\n",
    "train_loader = DataLoader(train_dataset, batch_size=32, shuffle=True)\n",
    "val_loader = DataLoader(val_dataset, batch_size=32, shuffle=False)"
   ]
  },
  {
   "cell_type": "code",
   "execution_count": 2,
   "id": "6d3b8e35",
   "metadata": {},
   "outputs": [
    {
     "name": "stdout",
     "output_type": "stream",
     "text": [
      "The shape of a batch of image:  torch.Size([32, 3, 224, 224])\n",
      "Corresponding Label:  tensor([3, 3, 3, 3, 3])\n"
     ]
    }
   ],
   "source": [
    "images, labels = next(iter(train_loader))\n",
    "print(\"The shape of a batch of image: \", images.shape)\n",
    "print(\"Corresponding Label: \", labels[:5])"
   ]
  },
  {
   "cell_type": "code",
   "execution_count": 3,
   "id": "91bf050e",
   "metadata": {},
   "outputs": [
    {
     "name": "stdout",
     "output_type": "stream",
     "text": [
      "Use Device:  cpu\n",
      "Epoch 1/5 - Loss: 27.1833 - Train Accuracy: 0.8530\n",
      "Epoch 2/5 - Loss: 24.6134 - Train Accuracy: 0.8699\n",
      "Epoch 3/5 - Loss: 23.9142 - Train Accuracy: 0.8718\n",
      "Epoch 4/5 - Loss: 24.6633 - Train Accuracy: 0.8704\n",
      "Epoch 5/5 - Loss: 22.9220 - Train Accuracy: 0.8728\n"
     ]
    }
   ],
   "source": [
    "# 1. Load Models & Set device\n",
    "import torch\n",
    "import torchvision.models as models\n",
    "import torch.nn as nn\n",
    "import torch.optim as optim\n",
    "\n",
    "device = torch.device('cuda' if torch.cuda.is_available() else 'cpu')\n",
    "print(\"Use Device: \", device)\n",
    "\n",
    "# 2. Load the model architecture and replace the fully connected (fc) layer (modify the structure first!)\n",
    "model = models.resnet18()\n",
    "model.fc = nn.Linear(model.fc.in_features, 6)  # 👈 firstly replace the last layer\n",
    "model.load_state_dict(torch.load('../models/recycling_resnet18_15ep.pth', map_location=device))  # 👈 then load parameters\n",
    "model = model.to(device)\n",
    "\n",
    "# 3. Freeze the feature extraction layers\n",
    "for param in model.parameters():\n",
    "    param.requires_grad = False\n",
    "for param in model.fc.parameters():  # need to train the fully connected layers\n",
    "    param.requires_grad = True\n",
    "\n",
    "# 4. Define the loss function and optimizer\n",
    "criterion = nn.CrossEntropyLoss()\n",
    "optimizer = optim.Adam(model.fc.parameters(), lr=0.001)\n",
    "\n",
    "# 5. Continue training\n",
    "num_epochs = 5\n",
    "for epoch in range(num_epochs):\n",
    "    model.train()\n",
    "    running_loss = 0.0\n",
    "    correct = 0\n",
    "    total = 0\n",
    "\n",
    "    for images, labels in train_loader:\n",
    "        images = images.to(device)\n",
    "        labels = labels.to(device)\n",
    "\n",
    "        optimizer.zero_grad()\n",
    "        outputs = model(images)\n",
    "        loss = criterion(outputs, labels)\n",
    "        loss.backward()\n",
    "        optimizer.step()\n",
    "\n",
    "        running_loss += loss.item()\n",
    "        _, predicted = outputs.max(1)\n",
    "        total += labels.size(0)\n",
    "        correct += predicted.eq(labels).sum().item()\n",
    "\n",
    "    train_acc = correct / total\n",
    "    print(f\"Epoch {epoch+1}/{num_epochs} - Loss: {running_loss:.4f} - Train Accuracy: {train_acc:.4f}\")\n",
    "\n",
    "# 6. Save the updated model\n",
    "torch.save(model.state_dict(), 'recycling_resnet18.pth')"
   ]
  }
 ],
 "metadata": {
  "kernelspec": {
   "display_name": "venv",
   "language": "python",
   "name": "python3"
  },
  "language_info": {
   "codemirror_mode": {
    "name": "ipython",
    "version": 3
   },
   "file_extension": ".py",
   "mimetype": "text/x-python",
   "name": "python",
   "nbconvert_exporter": "python",
   "pygments_lexer": "ipython3",
   "version": "3.12.5"
  }
 },
 "nbformat": 4,
 "nbformat_minor": 5
}
